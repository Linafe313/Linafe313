{
  "nbformat": 4,
  "nbformat_minor": 0,
  "metadata": {
    "colab": {
      "name": "Zindi_News_Classification_Challenge.ipynb",
      "provenance": [],
      "include_colab_link": true
    },
    "kernelspec": {
      "name": "python3",
      "display_name": "Python 3"
    },
    "language_info": {
      "name": "python"
    }
  },
  "cells": [
    {
      "cell_type": "markdown",
      "metadata": {
        "id": "view-in-github",
        "colab_type": "text"
      },
      "source": [
        "<a href=\"https://colab.research.google.com/github/Linafe313/Linafe313/blob/main/Zindi_Chichewa_News_Classification_Challenge.ipynb\" target=\"_parent\"><img src=\"https://colab.research.google.com/assets/colab-badge.svg\" alt=\"Open In Colab\"/></a>"
      ]
    },
    {
      "cell_type": "code",
      "metadata": {
        "id": "zZuDLASA3rNM"
      },
      "source": [
        "import matplotlib.pyplot as plt\n",
        "import os\n",
        "import re\n",
        "import shutil\n",
        "import string\n",
        "import tensorflow as tf\n",
        "from tensorflow.keras import layers\n",
        "from tensorflow.keras import losses\n",
        "from tensorflow.keras import regularizers\n",
        "import pydot"
      ],
      "execution_count": null,
      "outputs": []
    },
    {
      "cell_type": "code",
      "metadata": {
        "id": "JWV5Fv4q3vn8"
      },
      "source": [
        "import pandas as pd"
      ],
      "execution_count": null,
      "outputs": []
    },
    {
      "cell_type": "code",
      "metadata": {
        "id": "EICHhPM63xaz"
      },
      "source": [
        "from sklearn.preprocessing import LabelEncoder\n",
        "from sklearn.model_selection import train_test_split"
      ],
      "execution_count": null,
      "outputs": []
    },
    {
      "cell_type": "code",
      "metadata": {
        "id": "U40u2kKR3y-M"
      },
      "source": [
        "from collections import Counter"
      ],
      "execution_count": null,
      "outputs": []
    },
    {
      "cell_type": "code",
      "metadata": {
        "id": "RSbFMgQx3011"
      },
      "source": [
        "import numpy as np"
      ],
      "execution_count": null,
      "outputs": []
    },
    {
      "cell_type": "code",
      "metadata": {
        "id": "J20JeUEq32m6"
      },
      "source": [
        "import matplotlib.pyplot as plt"
      ],
      "execution_count": null,
      "outputs": []
    },
    {
      "cell_type": "code",
      "metadata": {
        "id": "Vi9b44Bw34Hk"
      },
      "source": [
        "#Remove url patterns\n",
        "def remove_url(text): \n",
        "    url_pattern  = re.compile('http[s]?://(?:[a-zA-Z]|[0-9]|[$-_@.&+]|[!*\\(\\),]|(?:%[0-9a-fA-F][0-9a-fA-F]))+')\n",
        "    return url_pattern.sub(r'', text)\n",
        " # converting return value from list to string"
      ],
      "execution_count": null,
      "outputs": []
    },
    {
      "cell_type": "code",
      "metadata": {
        "id": "1DPuA9xQ35x-"
      },
      "source": [
        "#Clean text  \n",
        "\n",
        "def clean_text(text ): \n",
        "    delete_dict = {sp_character: '' for sp_character in string.punctuation} \n",
        "    delete_dict[' '] = ' ' \n",
        "    table = str.maketrans(delete_dict)\n",
        "    text1 = text.translate(table)\n",
        "    textArr= text1.split()\n",
        "    text2 = ' '.join([w for w in textArr if ( not w.isdigit() and  ( not w.isdigit() and len(w)>3))]) \n",
        "\n",
        "    return text2.lower()"
      ],
      "execution_count": null,
      "outputs": []
    },
    {
      "cell_type": "code",
      "metadata": {
        "colab": {
          "base_uri": "https://localhost:8080/"
        },
        "id": "gmmsiUTL38XN",
        "outputId": "e0a8ffa3-bb57-4e2e-a5be-79c5d708bc19"
      },
      "source": [
        "#Read training data, drop null values, count number of categories. We have under represented groups\n",
        "\n",
        "train_data= pd.read_csv(\"/content/News Train.csv\")\n",
        "train_data.dropna(axis = 0, how ='any',inplace=True)\n",
        "train_data['Num_words_text'] = train_data['Text'].apply(lambda x:len(str(x).split()))\n",
        "print('===========Train Data =========')\n",
        "print(train_data['Label'].value_counts())\n",
        "print(len(train_data))\n",
        "print('==============================')\n",
        "\n",
        "\n",
        "train_data['Text'] = train_data['Text'].apply(remove_url)\n",
        "train_data['Text'] = train_data['Text'].apply(clean_text)"
      ],
      "execution_count": null,
      "outputs": [
        {
          "output_type": "stream",
          "text": [
            "===========Train Data =========\n",
            "POLITICS                279\n",
            "SOCIAL                  152\n",
            "RELIGION                147\n",
            "LAW/ORDER               136\n",
            "SOCIAL ISSUES           134\n",
            "HEALTH                  127\n",
            "ECONOMY                  86\n",
            "FARMING                  78\n",
            "SPORTS                   49\n",
            "EDUCATION                43\n",
            "RELATIONSHIPS            39\n",
            "WILDLIFE/ENVIRONMENT     36\n",
            "OPINION/ESSAY            26\n",
            "LOCALCHIEFS              25\n",
            "CULTURE                  23\n",
            "WITCHCRAFT               16\n",
            "MUSIC                    15\n",
            "TRANSPORT                11\n",
            "ARTS AND CRAFTS           7\n",
            "FLOODING                  7\n",
            "Name: Label, dtype: int64\n",
            "1436\n",
            "==============================\n"
          ],
          "name": "stdout"
        }
      ]
    },
    {
      "cell_type": "code",
      "metadata": {
        "id": "cHkTcekC4AYZ"
      },
      "source": [
        "#Split data for training and validation\n",
        "x_train, x_valid, y_train, y_valid = train_test_split(train_data['Text'].tolist(), train_data['Label'].tolist(), test_size=0.10,stratify = train_data['Label'].tolist(), random_state=0)"
      ],
      "execution_count": null,
      "outputs": []
    },
    {
      "cell_type": "code",
      "metadata": {
        "colab": {
          "base_uri": "https://localhost:8080/"
        },
        "id": "DR1rEaQR5o9H",
        "outputId": "f55bafac-1e5d-4fc5-e0b3-958958f07f99"
      },
      "source": [
        "print('Train data len:'+str(len(x_train)))\n",
        "print('Class distribution: '+str(Counter(y_train)))\n",
        "print('Valid data len:'+str(len(x_valid)))\n",
        "print('Class distribution: '+ str(Counter(y_valid)))\n",
        "\n",
        "train_input=np.asarray(x_train)\n",
        "test_input = np.array(x_valid)\n",
        "\n",
        "\n",
        "le = LabelEncoder()\n",
        "\n",
        "train_labels = le.fit_transform(y_train)\n",
        "train_labels = np.asarray( tf.keras.utils.to_categorical(train_labels))\n",
        "\n",
        "test_labels = le.transform(y_valid)\n",
        "test_labels = np.asarray( tf.keras.utils.to_categorical(test_labels))\n",
        "\n"
      ],
      "execution_count": null,
      "outputs": [
        {
          "output_type": "stream",
          "text": [
            "Train data len:1292\n",
            "Class distribution: Counter({'POLITICS': 251, 'SOCIAL': 137, 'RELIGION': 132, 'LAW/ORDER': 122, 'SOCIAL ISSUES': 121, 'HEALTH': 114, 'ECONOMY': 77, 'FARMING': 70, 'SPORTS': 44, 'EDUCATION': 39, 'RELATIONSHIPS': 35, 'WILDLIFE/ENVIRONMENT': 32, 'LOCALCHIEFS': 23, 'OPINION/ESSAY': 23, 'CULTURE': 21, 'WITCHCRAFT': 15, 'MUSIC': 14, 'TRANSPORT': 10, 'FLOODING': 6, 'ARTS AND CRAFTS': 6})\n",
            "Valid data len:144\n",
            "Class distribution: Counter({'POLITICS': 28, 'SOCIAL': 15, 'RELIGION': 15, 'LAW/ORDER': 14, 'HEALTH': 13, 'SOCIAL ISSUES': 13, 'ECONOMY': 9, 'FARMING': 8, 'SPORTS': 5, 'WILDLIFE/ENVIRONMENT': 4, 'RELATIONSHIPS': 4, 'EDUCATION': 4, 'OPINION/ESSAY': 3, 'CULTURE': 2, 'LOCALCHIEFS': 2, 'MUSIC': 1, 'FLOODING': 1, 'TRANSPORT': 1, 'ARTS AND CRAFTS': 1, 'WITCHCRAFT': 1})\n"
          ],
          "name": "stdout"
        }
      ]
    },
    {
      "cell_type": "code",
      "metadata": {
        "colab": {
          "base_uri": "https://localhost:8080/"
        },
        "id": "5xL0xfWi6K3t",
        "outputId": "b917a447-7afd-4e1f-f463-dff8b1a73f3b"
      },
      "source": [
        "print(train_labels[:3])\n",
        "print(test_labels[:3])\n",
        "print(train_input[:3])\n",
        "print(test_input[:3])"
      ],
      "execution_count": null,
      "outputs": [
        {
          "output_type": "stream",
          "text": [
            "[[0. 0. 0. 0. 0. 0. 0. 0. 0. 0. 0. 0. 0. 1. 0. 0. 0. 0. 0. 0.]\n",
            " [0. 0. 0. 0. 0. 0. 0. 0. 0. 0. 0. 0. 0. 1. 0. 0. 0. 0. 0. 0.]\n",
            " [0. 0. 0. 0. 0. 0. 0. 0. 0. 0. 0. 1. 0. 0. 0. 0. 0. 0. 0. 0.]]\n",
            "[[0. 1. 0. 0. 0. 0. 0. 0. 0. 0. 0. 0. 0. 0. 0. 0. 0. 0. 0. 0.]\n",
            " [0. 0. 0. 0. 0. 0. 1. 0. 0. 0. 0. 0. 0. 0. 0. 0. 0. 0. 0. 0.]\n",
            " [0. 0. 0. 0. 0. 0. 0. 1. 0. 0. 0. 0. 0. 0. 0. 0. 0. 0. 0. 0.]]\n",
            "['radio maria itsekera nyengo mariatona wolemba richard makombe director radio maria malawi bambo joseph kimu wayilesiyi ikukwanitsa kufalitsa uthenga wabwino yesu khristu ngakhale ngongole zoposa million kwacha bambo joseph kimu amayankhula mwambo nsembe ukaristia otsekera nyengo mariatona omwe unachitikira mtendere parish dayosizi dedza bambo kimu ndiokondwa kuti anthu ambiri amamvera wayilesiyi kuphatikizapo anthu omwe mpingo katolika zomwe anati chisonyezo kuti zikulimbikitsa anthu kukonda kupemphera anali mlendo wolemekezeka mwambowo bonga akazi pali anthu ambiri omwe amathandiza wayilesiyi omwe mipingo ndipo zapangitsa kuti radio maria ikhale ikufalitsa uthenga wabwino yesu khristu kuyambira pomwe inatsegulidwa zaka zapitazoanatero bambo kimu bambo kimu anapitiliza kupemph anthu onse akufuna kwabwino komanso akhristu kuti apitilize kuthandiza komanso kuyikonda wayilesiyi kuti izikwaniritsa cholinga chake chofalitsa uthenga wabwino anthu ambiri ndikupempheni kuti mupitilize kupemphelera radio maria komanso muzikonda kugwiritsa ntchito wayilesiyi zochitika zanu kuti uthenga mulungu upilire kufalikira ponseponseanapitiliza motero bambo kimu bambo kimu anati ndikudziwa kuti muli mavuto zachuma pano parish komanso mmanyumba mwanu koma munaona kuti nkofunika kuti muthandize radio maria ndithokoze kuti mwaonetsa chikondi chomwe muli nacho wayilesiyi mmawu monsignor john chithonje anati akuthokoza director wayilesiyi kamba kosankha kudzachitira mwambo otsekera mariatona dayosizi dedza zomwe zikusonyeza ubale wabwino omwe ulipo pakati dayosiyi radio maria malawi dayosizi ndiyokonzeka kuthandiza radio maria nthawi iliyonse ndipo timayesetsa kuthandiza kuti ntchito zake zipitilire kupita patsogolo anateromonsignor chithonje monsignor chithonje anathokoza kwambiri akhristu parishi kamba kotenga gawo pothandiza wayilesiyi zomwe anati zaonetsa ubale omwe ulipo wayilesiyi komanso kuti amayikonda radio maria ntchito yomwe radio maria ikugwira yathandiziranso kuti ubale wathu akhristu mdziko mozambique ukhale opambana komanso wamphamvundipo zaonetseratu kuti akhristuwa amakonda kumvera wayilesiyianatero monsignor chithonje nyengo mariatona inatsegulidwa sacred heart zomba cathedral zomba dayosizi ndipo yatsekedwa july mtendere parish dayosizi dedza mwambowu ndalama zokwana million hundred fifty hundred forty kwacha zomwe zinapezeka ndipo mlendo olemekezeka mwambowu anali mike bonga omwe anapereka cheke ndalama zokwana hundred thousad kwacha'\n",
            " 'papa wati mawu mulungu amafalikira ponseponse mtsogoleri mpingo katolika dziko lonse papa francisco wati mawu mulungu mphavu yofalikira ponseponse papa francisko papa walankhula lachitatu bwalo saint peters square likulu mpingowu vatican polankhula anthu omwe anasonkhana bwaloli papa francisco wati ngakhale mpingo wakhala ukukumana mavuto osiyanasiyana kuyambira nthawi apostoli maka pofalitsa uthenga yesu khristu komabe mulungu akhala akufalikira ponseponse pamenepa wati zikusonyeza mphamvu yodabwitsa yomwe mulungu alinayo yotha kufikira pena paliponse wati zimenezi zikusonyeza kuti palibe angamangire mpanda mawu mulungu'\n",
            " 'pasakhale oponya voti atsopanosupreme court bwalo supreme lagamula kuti chisankho chatsopano president chichitikebe mdziko muno popanda anthu atsopano kutenga nawo gawo chisankhochi bwaloli lanena chigamulo chake pomwe bungwe komanso chipani anakasuma potsutsana chigamulo chomwe bwalo malamulo linapereka kuti chisankhochi chichitike mmasiku kuyambira february chaka chino bwaloli lati anthu amene anaphwanyiridwa ufulu amene anavota chisankho chaka chatha choncho palibe chifukwa choti anthu atsopano alembedwenso kaundula votiyi tawamenya chifukwa adabwera koyamba kuti ayimitse mlandu anamenyedwa constitution khoti anawakana ndipo apanso chimodzi modzi anatero chilima bwalo mlanduli lagamulanso kuti onse omwe atakaponye voti omwe analembetsa chaka chatha komanso anthu omwe atapikisane omwe anali mndandandawu chaka chatha koma sakubwelera mmbuyo ndipo apitilira kuyenda limodzi lazarus chakwera chipani mlanduwu mchigamulocho bwaloli lalamula bungwe kuti libwenze ndalama zonse zomwe odandaula omwe zipani zawononga kuchokera chiyambi mlanduwu']\n",
            "['malamulo ukwati akutsutsana kutanthauzira lamulo lokhudza maukwati kukhala kovuta tsopano pamene pali kusemphana pakati zomwe zidalembedwa mmalamulo oyendetsera adziko lino zomwe zili mmalamulo okhudza mabanja divorce relations gawo ndime malamulo dziko lino limati palibe munthu woposa zaka adzaletsedwe kukwatira kapena kukwatiwa ndime imati munthu zaka pakati angathe kukwatiwa kapena kukwatira ngati patakhala chilolezo kuchoka makolo kapena womuyanganira chakwera akwanitse malonjezohrdc masankhidwe nduna autsa mapiri chigwa malonjezo ayamba kuoneka zikusemphana zomwe zili lamulo latsopano loyendetsera maukwati zoletsa ukwati munthu wosaposa zaka dedza kachindamoto akuchotsa mafumu amene apezeka akuvomereza ukwati mwana wosaposa zaka chitsanzo nyakwawa galuanenenji idachotsedwa pampando chifukwa chovomereza ukwati mtsikana zaka ngakhale makolo adavomereza kuti ukwatiwo uchitike kachindamoto akuti mphamvu akuzitenga malamulo oyendetsera maukwati momwe akuletsa ukwati mwana wosaposa zaka tsono kuti tichotse mfumu pampando malamulo amenewa tidachita kugwirizana tokha kuno ndiye mfumu yomwe yalakwitsa ikuchotsedwa ndipo mafumu anayi achotsedwa adatero kachindamoto koma esmie tembenu blantyre child justice magistrate akuti pali kusokonekera kwazinthu chifukwa divorce relations chifukwa ubwino woti kuti azipita kusukulu lamulo maukwati lomwe tikugwiritsa ntchito komabe tili mantha chifukwa zomwe zili mmalamulo adziko lino ngati wina atakutengera kubwalo milandu angathe kukapambana mlandu chifukwa malamulo adziko lino okha ndiwo mphamvu adatero tembenu naye mphunzitsi malamulo kusukulu chancellor college edge kanyongolo akuti pamenepa pali kusokonekera zinthu komabe wati lamulo dziko lino ndilo lili mphamvu masiku apitawa kanyongolo adati pofuna kugwiritsa zomwe zili lamuloli ndiye pakuyenera kukonza gawo lomwe lili mmalamulo adziko lino'\n",
            " 'chimanga kulibe amalawi adandaula admarc pamene njala ikupitirira kukantha mmadera zadziwikanso kuti mmisika admarc yambiri mdziko muno mulibe chimanga ndipo anthu ntcheu dedza mzimba chitipa blantyre alirira boma kuti lichitepo kanthu chisale watuluka nkumangidwanso sipakala waimitsa nyumba malamulo chakwera akwanitse malonjezohrdc anthu omwe alankhula tamvani msabatayi ndikale adagula kapena kuona chimanga admarc zomwe zikuwakakamiza kugula mavenda mtengo kusiyana yomwe amagulira thumba makilogalamu admarc koma mneneri bungwe admarc agnes chikoko adati timutumizire mafunso ndipo pomwe timalemba nkhaniyi nkuti asadayankhe ngakhale bungwe admarc lidalengeza mmbuyomu kuti pasapezeke ogula makilogalamu oposa admarc wachiwiri nduna zaulimi ulemu chilapondwa wati dziko lino lili chimanga chochuluka koma vuto ndilakuti chikakasiidwa admarc mavenda ndiwo akumagula machawi adati boma pakadali pano likuyesayesa kupeza njira zothana mavendawa asadatumizenso china admarcko chimanga changotha admarc osati kulibe tili matani miliyoni omwe akusungidwa pasakhalitsapa tidatumiza matani vuto mavenda adatero chilapondwa misika mmadera titamupatsa madera omwe tapeza kuti mulibe chimanga adakana kuti sizingatheke florence nsangu mmudzi chapita masasa mboma ntcheu akuti chaka banja lake limafunika matumba pafupifupi zaka akuti matumbawa amawapeza akachita ganyu koma chifukwa kusintha nyengo akulephera kukolola chimanga chokwanira zikavuta akuti amapeza asanu koma chaka chatha adapeza atatu chifukwa vuto mvula ndipo pofika october chimangacho nkuti chitatha zikavuta chonchi kothamangira admarc chifukwa mtengo wake sukhala woboola mthumba koma ndakhala ndikupita admarc lizulu komanso bembeke kukayangana chimanga koma kulibe tatopa ndikuyendera ndiye tikungogula mavenda adatero mayiyu yemwe akuti ndimo adagula chimanga admarc wati akumachita ganyu yolimitsa kuti apeze ndalama yogulira chimanga koma zikavuta akugonera mbatata patsiku akumapanga k500 ndiye tikakhalapo angapo tikumapeza ndalama yochuluka komanso maganyuwo akusowa adatero mayiyu yemwe adati boma liyike chimanga admarc tamvani itayendera admarc lunzu komanso matindi idapeza malowo otseka anthu omwe tidakumana nawo adati ngati tikufuna chimanga tikagule mavenda chifukwa admarc sichinabwere adati tipite takondwa commodities pamsika lunzu komwe amati amagulitsa pamtengo wotsika takondwa commodities tidapeza anthu oposa akufuna kugula chimanga pamenepo akuti amagulitsa thumba makilogalamu dolasi kabotolo mmudzi manjombe kapeni mboma blantyre tidamupeza pamenepo ndipo adati mwina apeza chipulumutso sindingakumbukenso tsiku lomwe ndidagula admarc koma kawiri sabata ndimakapondako kukafunsa ndipo yankho lake nkuti chimanga kulibe ngati takondwa chatha ndiye timalira kwambiri chifukwa timakagula kumsika komwe akupanga thumba ngakhale chili chotsika komabe timavutika magulidwe chifukwa mavenda ndiwo amachuluka kudzagula adatero kabotolo yemwe pamzere panthawi yomwe timacheza naye nkuti akudikirira mkulu wina yemwe adabwera galimoto matani awiri akugula matumba nako dedza mavutowa akuti sadasiye malo rashida mathews mmudzi mkajenda tambala wati kumeneko adasiye kupita admarc chifukwa chimanga chidasiya kufika anthu akuvutika gulupu lodzanyama kumeneko watinso anthu akuvutika chifukwa kusowa chimanga ndipo mavenda mtengo wake sangakwanitse wati kumeneko kuli njala chifukwa anthu sapindula fetereza makuponi sanudi tambula ulongwe mboma balaka wati kumeneko chimanga samagula admarc koma mavenda chifukwa admarc sichibwera mzimba nako akuti kulibe tomasi manjaaluso mmudzi takumanapo mzukuzuku wati anthu akugula mavenda chifukwa chikabwera admarc mavendawo ndiwo akumakagula charles kabaghe mmudzi mkombanyama mwaulambia mboma chitipa wati admarc yakumeneko kulibe chimanga ndipo akumakagula tanzania chifukwa kumeneko ndichotchipa tanzania tikugula thumba makilogalamu kupita ndikubwera komabe nanga titani adatero kabaghe madera nsanje chikhwawa chiradzulu mwanza neno momwe akuti mavutowa achuluka mwambiri akuti chimanga chikafika chimagulidwa mavenda ndipo anthu wamba sakupeza mpata kuti agule zikudza pomwe kholola amasonyeza kuti dziko lino tapata matani miliyoni pomwe dziko lino limafuna matani miliyoni kholola dziko lino lidapata matani miliyoni'\n",
            " 'khansala mchitolokosi mlandu kuba khansala dera bangwe mthandizi mzinda blantyre isaac jomo osman mchitolokosi apolisi pomuganizira kuti akhuzidwa mchitidwe owononga katundu komanso kuba akuyankha mlandu wakubaosman malinga ofalitsa nkhani polisi limbe inspector patrick mussa khansalayu yemwe chipani ndipo amadziwikanso dzina loti mtopwa wamangidwa lolemba tawuni limbe inspector mussa wati phungu kunyumba malamulo mdera bangwe orphan shawa anali kunyumba kwake mpingwe kukondwelera kupambana kwake chisankhocho ngati phungu woyima payekha chikondwelerochi chili mkati osman anzake akuti anafika nyumbayi atanyamula zikwanje kuyamba kuswa magalasi galimoto zitatu komanso kuba lamya zammanja zisanu zomwe ndalama zokwana million thousand kwacha isaac jomo osman amachokera mmudzi mtalimanja mdera mfumu yaikulu mponda mboma mangochi']\n"
          ],
          "name": "stdout"
        }
      ]
    },
    {
      "cell_type": "code",
      "metadata": {
        "id": "FsCj7erO62-a"
      },
      "source": [
        "from sklearn.metrics import mean_squared_error\n",
        "from sklearn.ensemble import RandomForestClassifier\n",
        "from sklearn.model_selection import cross_val_score\n",
        "from sklearn.metrics import accuracy_score, confusion_matrix\n",
        "from sklearn.naive_bayes import MultinomialNB\n",
        "from sklearn import svm\n",
        "from sklearn.pipeline import Pipeline\n",
        "from sklearn.feature_extraction.text import TfidfTransformer\n",
        "from sklearn.feature_extraction.text import CountVectorizer, TfidfVectorizer\n",
        "from imblearn.over_sampling import SMOTE\n",
        "from imblearn.pipeline import Pipeline"
      ],
      "execution_count": null,
      "outputs": []
    },
    {
      "cell_type": "code",
      "metadata": {
        "colab": {
          "base_uri": "https://localhost:8080/"
        },
        "id": "XPffmxLr-OUd",
        "outputId": "36ef27a2-2cfe-49dc-dbd5-87dd90a3b614"
      },
      "source": [
        "train_input[:1]"
      ],
      "execution_count": null,
      "outputs": [
        {
          "output_type": "execute_result",
          "data": {
            "text/plain": [
              "array(['radio maria itsekera nyengo mariatona wolemba richard makombe director radio maria malawi bambo joseph kimu wayilesiyi ikukwanitsa kufalitsa uthenga wabwino yesu khristu ngakhale ngongole zoposa million kwacha bambo joseph kimu amayankhula mwambo nsembe ukaristia otsekera nyengo mariatona omwe unachitikira mtendere parish dayosizi dedza bambo kimu ndiokondwa kuti anthu ambiri amamvera wayilesiyi kuphatikizapo anthu omwe mpingo katolika zomwe anati chisonyezo kuti zikulimbikitsa anthu kukonda kupemphera anali mlendo wolemekezeka mwambowo bonga akazi pali anthu ambiri omwe amathandiza wayilesiyi omwe mipingo ndipo zapangitsa kuti radio maria ikhale ikufalitsa uthenga wabwino yesu khristu kuyambira pomwe inatsegulidwa zaka zapitazoanatero bambo kimu bambo kimu anapitiliza kupemph anthu onse akufuna kwabwino komanso akhristu kuti apitilize kuthandiza komanso kuyikonda wayilesiyi kuti izikwaniritsa cholinga chake chofalitsa uthenga wabwino anthu ambiri ndikupempheni kuti mupitilize kupemphelera radio maria komanso muzikonda kugwiritsa ntchito wayilesiyi zochitika zanu kuti uthenga mulungu upilire kufalikira ponseponseanapitiliza motero bambo kimu bambo kimu anati ndikudziwa kuti muli mavuto zachuma pano parish komanso mmanyumba mwanu koma munaona kuti nkofunika kuti muthandize radio maria ndithokoze kuti mwaonetsa chikondi chomwe muli nacho wayilesiyi mmawu monsignor john chithonje anati akuthokoza director wayilesiyi kamba kosankha kudzachitira mwambo otsekera mariatona dayosizi dedza zomwe zikusonyeza ubale wabwino omwe ulipo pakati dayosiyi radio maria malawi dayosizi ndiyokonzeka kuthandiza radio maria nthawi iliyonse ndipo timayesetsa kuthandiza kuti ntchito zake zipitilire kupita patsogolo anateromonsignor chithonje monsignor chithonje anathokoza kwambiri akhristu parishi kamba kotenga gawo pothandiza wayilesiyi zomwe anati zaonetsa ubale omwe ulipo wayilesiyi komanso kuti amayikonda radio maria ntchito yomwe radio maria ikugwira yathandiziranso kuti ubale wathu akhristu mdziko mozambique ukhale opambana komanso wamphamvundipo zaonetseratu kuti akhristuwa amakonda kumvera wayilesiyianatero monsignor chithonje nyengo mariatona inatsegulidwa sacred heart zomba cathedral zomba dayosizi ndipo yatsekedwa july mtendere parish dayosizi dedza mwambowu ndalama zokwana million hundred fifty hundred forty kwacha zomwe zinapezeka ndipo mlendo olemekezeka mwambowu anali mike bonga omwe anapereka cheke ndalama zokwana hundred thousad kwacha'],\n",
              "      dtype='<U5871')"
            ]
          },
          "metadata": {
            "tags": []
          },
          "execution_count": 30
        }
      ]
    },
    {
      "cell_type": "code",
      "metadata": {
        "colab": {
          "base_uri": "https://localhost:8080/"
        },
        "id": "QlkNWdQx-_d3",
        "outputId": "9eb3edcf-853a-47f9-e67d-5cbc3c668a30"
      },
      "source": [
        "y_train[:1]"
      ],
      "execution_count": null,
      "outputs": [
        {
          "output_type": "execute_result",
          "data": {
            "text/plain": [
              "['RELIGION']"
            ]
          },
          "metadata": {
            "tags": []
          },
          "execution_count": 31
        }
      ]
    },
    {
      "cell_type": "code",
      "metadata": {
        "colab": {
          "base_uri": "https://localhost:8080/"
        },
        "id": "Rbce_PuA7psZ",
        "outputId": "d62dd0b8-aa50-4f3b-dc22-15bec3c009ff"
      },
      "source": [
        "Model = Pipeline([('vect', CountVectorizer()),   \n",
        "               ('tfidf', TfidfTransformer()),\n",
        "               (\"Sampling\", SMOTE()),\n",
        "               (\"model\", RandomForestClassifier())\n",
        "              ])\n",
        "\n",
        "Model.fit(train_input, y_train)"
      ],
      "execution_count": null,
      "outputs": [
        {
          "output_type": "stream",
          "text": [
            "/usr/local/lib/python3.7/dist-packages/sklearn/utils/deprecation.py:87: FutureWarning: Function safe_indexing is deprecated; safe_indexing is deprecated in version 0.22 and will be removed in version 0.24.\n",
            "  warnings.warn(msg, category=FutureWarning)\n"
          ],
          "name": "stderr"
        },
        {
          "output_type": "execute_result",
          "data": {
            "text/plain": [
              "Pipeline(memory=None,\n",
              "         steps=[('vect',\n",
              "                 CountVectorizer(analyzer='word', binary=False,\n",
              "                                 decode_error='strict',\n",
              "                                 dtype=<class 'numpy.int64'>, encoding='utf-8',\n",
              "                                 input='content', lowercase=True, max_df=1.0,\n",
              "                                 max_features=None, min_df=1,\n",
              "                                 ngram_range=(1, 1), preprocessor=None,\n",
              "                                 stop_words=None, strip_accents=None,\n",
              "                                 token_pattern='(?u)\\\\b\\\\w\\\\w+\\\\b',\n",
              "                                 tokenizer=None, vocabulary=Non...\n",
              "                 RandomForestClassifier(bootstrap=True, ccp_alpha=0.0,\n",
              "                                        class_weight=None, criterion='gini',\n",
              "                                        max_depth=None, max_features='auto',\n",
              "                                        max_leaf_nodes=None, max_samples=None,\n",
              "                                        min_impurity_decrease=0.0,\n",
              "                                        min_impurity_split=None,\n",
              "                                        min_samples_leaf=1, min_samples_split=2,\n",
              "                                        min_weight_fraction_leaf=0.0,\n",
              "                                        n_estimators=100, n_jobs=None,\n",
              "                                        oob_score=False, random_state=None,\n",
              "                                        verbose=0, warm_start=False))],\n",
              "         verbose=False)"
            ]
          },
          "metadata": {
            "tags": []
          },
          "execution_count": 32
        }
      ]
    },
    {
      "cell_type": "code",
      "metadata": {
        "id": "bRHo0cWWIBOB"
      },
      "source": [
        "from sklearn.metrics import classification_report"
      ],
      "execution_count": null,
      "outputs": []
    },
    {
      "cell_type": "code",
      "metadata": {
        "colab": {
          "base_uri": "https://localhost:8080/"
        },
        "id": "3oaScKEJ9Bsr",
        "outputId": "84c36dfd-a9a2-4677-da2c-f8821bd4507b"
      },
      "source": [
        "y_pred = Model.predict(test_input)\n",
        "\n",
        "print('accuracy %s' % accuracy_score(test_input, y_valid))\n",
        "print(classification_report(y_valid, y_pred))"
      ],
      "execution_count": null,
      "outputs": [
        {
          "output_type": "stream",
          "text": [
            "accuracy 0.0\n",
            "                      precision    recall  f1-score   support\n",
            "\n",
            "     ARTS AND CRAFTS       0.00      0.00      0.00         1\n",
            "             CULTURE       0.00      0.00      0.00         2\n",
            "             ECONOMY       0.00      0.00      0.00         9\n",
            "           EDUCATION       0.67      0.50      0.57         4\n",
            "             FARMING       0.78      0.88      0.82         8\n",
            "            FLOODING       0.00      0.00      0.00         1\n",
            "              HEALTH       0.70      0.54      0.61        13\n",
            "           LAW/ORDER       0.50      0.57      0.53        14\n",
            "         LOCALCHIEFS       0.00      0.00      0.00         2\n",
            "               MUSIC       1.00      1.00      1.00         1\n",
            "       OPINION/ESSAY       0.00      0.00      0.00         3\n",
            "            POLITICS       0.56      0.86      0.68        28\n",
            "       RELATIONSHIPS       0.75      0.75      0.75         4\n",
            "            RELIGION       1.00      0.73      0.85        15\n",
            "              SOCIAL       0.54      0.87      0.67        15\n",
            "       SOCIAL ISSUES       0.33      0.38      0.36        13\n",
            "              SPORTS       0.83      1.00      0.91         5\n",
            "           TRANSPORT       0.00      0.00      0.00         1\n",
            "WILDLIFE/ENVIRONMENT       1.00      0.25      0.40         4\n",
            "          WITCHCRAFT       0.00      0.00      0.00         1\n",
            "\n",
            "            accuracy                           0.60       144\n",
            "           macro avg       0.43      0.42      0.41       144\n",
            "        weighted avg       0.56      0.60      0.56       144\n",
            "\n"
          ],
          "name": "stdout"
        },
        {
          "output_type": "stream",
          "text": [
            "/usr/local/lib/python3.7/dist-packages/sklearn/metrics/_classification.py:1272: UndefinedMetricWarning: Precision and F-score are ill-defined and being set to 0.0 in labels with no predicted samples. Use `zero_division` parameter to control this behavior.\n",
            "  _warn_prf(average, modifier, msg_start, len(result))\n"
          ],
          "name": "stderr"
        }
      ]
    },
    {
      "cell_type": "code",
      "metadata": {
        "colab": {
          "base_uri": "https://localhost:8080/"
        },
        "id": "132NKQW6GarI",
        "outputId": "255c5076-3327-48aa-f076-502e983794e4"
      },
      "source": [
        "#Reading the test data set submitted and cleaning it\n",
        "\n",
        "test_data= pd.read_csv(\"/content/News Test.csv\")\n",
        "test_data['Num_words_text'] = test_data['Text'].apply(lambda x:len(str(x).split()))\n",
        "print('===========Test Data =========')\n",
        "print(test_data['ID'].value_counts())\n",
        "print(len(test_data))\n",
        "print('==============================')\n",
        "\n",
        "\n",
        "test_data['Text'] = test_data['Text'].apply(remove_url)\n",
        "test_data['Text'] = test_data['Text'].apply(clean_text)"
      ],
      "execution_count": null,
      "outputs": [
        {
          "output_type": "stream",
          "text": [
            "===========Test Data =========\n",
            "ID_xeKzHcbE    1\n",
            "ID_WzGTciJE    1\n",
            "ID_ShsGuVmx    1\n",
            "ID_xxYXdaqw    1\n",
            "ID_zNisxgGw    1\n",
            "              ..\n",
            "ID_jGADcQne    1\n",
            "ID_kllGikKe    1\n",
            "ID_IOaQZPeL    1\n",
            "ID_MpMKBVeg    1\n",
            "ID_wCFZNHXe    1\n",
            "Name: ID, Length: 620, dtype: int64\n",
            "620\n",
            "==============================\n"
          ],
          "name": "stdout"
        }
      ]
    },
    {
      "cell_type": "code",
      "metadata": {
        "colab": {
          "base_uri": "https://localhost:8080/",
          "height": 77
        },
        "id": "2p1TAhvBI8pk",
        "outputId": "65b09d1f-4f0f-49b3-c62b-9b6a79728b95"
      },
      "source": [
        "test_data.head(1)"
      ],
      "execution_count": null,
      "outputs": [
        {
          "output_type": "execute_result",
          "data": {
            "text/html": [
              "<div>\n",
              "<style scoped>\n",
              "    .dataframe tbody tr th:only-of-type {\n",
              "        vertical-align: middle;\n",
              "    }\n",
              "\n",
              "    .dataframe tbody tr th {\n",
              "        vertical-align: top;\n",
              "    }\n",
              "\n",
              "    .dataframe thead th {\n",
              "        text-align: right;\n",
              "    }\n",
              "</style>\n",
              "<table border=\"1\" class=\"dataframe\">\n",
              "  <thead>\n",
              "    <tr style=\"text-align: right;\">\n",
              "      <th></th>\n",
              "      <th>ID</th>\n",
              "      <th>Text</th>\n",
              "      <th>Num_words_text</th>\n",
              "    </tr>\n",
              "  </thead>\n",
              "  <tbody>\n",
              "    <tr>\n",
              "      <th>0</th>\n",
              "      <td>ID_ADHEtjTi</td>\n",
              "      <td>abambo odzikhweza akuchuluka kafukufuku apolis...</td>\n",
              "      <td>346</td>\n",
              "    </tr>\n",
              "  </tbody>\n",
              "</table>\n",
              "</div>"
            ],
            "text/plain": [
              "            ID  ... Num_words_text\n",
              "0  ID_ADHEtjTi  ...            346\n",
              "\n",
              "[1 rows x 3 columns]"
            ]
          },
          "metadata": {
            "tags": []
          },
          "execution_count": 48
        }
      ]
    },
    {
      "cell_type": "code",
      "metadata": {
        "id": "YnamFq69JIJj"
      },
      "source": [
        "new_input = test_data[\"Text\"]"
      ],
      "execution_count": null,
      "outputs": []
    },
    {
      "cell_type": "code",
      "metadata": {
        "id": "Gf2qwcUyJUSO"
      },
      "source": [
        "new_input=np.asarray(new_input)"
      ],
      "execution_count": null,
      "outputs": []
    },
    {
      "cell_type": "code",
      "metadata": {
        "colab": {
          "base_uri": "https://localhost:8080/"
        },
        "id": "lxt2t92QJeGq",
        "outputId": "a2cba4bb-4cfc-46a0-e821-d310ad1fdf97"
      },
      "source": [
        "new_input[:2]"
      ],
      "execution_count": null,
      "outputs": [
        {
          "output_type": "execute_result",
          "data": {
            "text/plain": [
              "array(['abambo odzikhweza akuchuluka kafukufuku apolisi mdziko muno waonetsa kuti abambo ndiwo amadzipha anthu alionse amene amatenga miyoyo yawo podzikhweza kapena kudzipha mnjira zina wenela pasintha zedi anatchereza tidakumana sukulu chiradzulu malinga mneneri kulikulu polisi nicholas gondwa abambo ambiri amalimba mtima kudzipha kusiyana amayi koma amayi olimba mtima amakumana nkhanza zambiri koma ochepa omwe amadzichotsera moyo adatero pocheza msangulutso polankhulapo mneneri apolisi mchigawo kumpoto maurice chapola adati abambo ambiri akakumana nkhaza mbanja amathamangira kudzipha mmalo mokadandaula kunthambi polisi victim support unit chapola adati abambo khumi ndiwo amakadandaula anthu alionse kondwani machano yemwe bambo awiri adati abambo amaopa kupita kupolisi akakhala nkhawa kuopa kuukiridwa komanso chifukwa ambiri sadziwa kulankhula ndipo katswiri woona zakaganizidwe psychiatrist yemwenso mkulu chipatala john mmzinda mzuzu charles masulani mwale adati abambo ambiri akakhala mavuto mmaganizo sagawira anzawo nkhawazo kuopa kuoneka opusa abambo amaopa kuoneka opepera akauza mavuto ndipo amawasunga mmaganizo pomwe amayi amagawana nkhawa zawo masulani adatero adati abambowa amakakamira kuthana nawo okha mavuto omwe nawo masulani adati kafukufuku waonetsa kuti ngakhale amayi ambiri ndiwo amalingalira zodzipha ambiri sadzipha kaamba koti amatsatira njira zozizira zodziphera pomwe abambo omwe amalingalira zodzipha amagwiritsa ntchito njira zoopsa pochotsa miyoyo yawo tinene kuti amayi amangoopseza kuti adzipha kusiyana abambo omwe akalingalira amachotsadi moyo wawo mnjira zoopsa masulani adatero adati vuto lodzipha lalikulu mmaiko otukuka kumene kaamba koti anthu sadziwa kopita akakhala mavuto mmaganizo sitidazolowere kuti tikakhala nthenthe kapena kupanikizika mmaganizo tiyenera kupita nazo kuchipatala koma zimafunika thandizo lamsanga akatswiri odziwa kaganizidwe masulani adatero adati pachipatala john amayi ambiri ndiwo amafuna thandizo kusiyana abambo masulani adati ambiri amayiwa amavutika mmaganizo chifukwa mavuto mbanja komanso umphawi ambiri amati mwina angodzipha chifukwa umphawi wafika povuta ndipo chilichonse chomwe ayesa sichikuyenda masulani adatero',\n",
              "       'ambuye ziyaye ayamikira aphunzitsi tilitonse arkiepiskopi arkidayosizi lilongwe ambuye tarcizio ziyaye wayamikira mgwirizano omwe ulipo pakati amphunzitsi tilitonse komanso atsogoleri osiyanasiyana mpingo wakatolika amayakhula parish johns msamba mwambo chaka epiphania chomwe arkidayosiziyo imachita loweruka lililonse lotsatira lamulungu epiphania dziko lonse ambuye ziyaye aphunzitsi akugwira ntchito yotamandika ambuye ziyaye alimbikitsa mdziko muno kuti azilimbikira maphunziro sukulu komanso tilitonse cholinga choti adzitumikira bwino ngati komanso kukhala mzika zodalirika dziko lino episkopi ntchito yake kuphunzitsa anthu zinthu mpingo koma sindingakwanitse chifukwa sindimakhala parishi iliyonse ntchito imeneyi amandithandiza aphunzitsi amenewa ndipo ndikuti zikomo kwambiri mukugwira ntchito yotamandika anatero ambuye ziyaye pothilirapo ndemanga mkulu ofesi yoona mabungwe utumiki papa pontifical mission societies arkidayosizi lilongwe bambo francis lekaleka anati ofesi yawo ipitiliza kulimbikitsa kuti adzilimbikira maphunziro kudzera munjira zosiyanasiyana zomwe yakonza'],\n",
              "      dtype=object)"
            ]
          },
          "metadata": {
            "tags": []
          },
          "execution_count": 51
        }
      ]
    },
    {
      "cell_type": "code",
      "metadata": {
        "id": "GqrhB8wgJjat"
      },
      "source": [
        "predictions = Model.predict(new_input)"
      ],
      "execution_count": null,
      "outputs": []
    },
    {
      "cell_type": "code",
      "metadata": {
        "colab": {
          "base_uri": "https://localhost:8080/"
        },
        "id": "2fCxAYHSJ14g",
        "outputId": "2ee3b8a6-ebce-40a4-af10-81204f398c82"
      },
      "source": [
        "predictions[:2]"
      ],
      "execution_count": null,
      "outputs": [
        {
          "output_type": "execute_result",
          "data": {
            "text/plain": [
              "array(['SOCIAL ISSUES', 'RELIGION'], dtype='<U20')"
            ]
          },
          "metadata": {
            "tags": []
          },
          "execution_count": 54
        }
      ]
    },
    {
      "cell_type": "code",
      "metadata": {
        "colab": {
          "base_uri": "https://localhost:8080/",
          "height": 106
        },
        "id": "kD7jORVEKaR6",
        "outputId": "7f685518-ff39-4219-f697-b4ba3f3b2a70"
      },
      "source": [
        "test_data = test_data.drop(\"Num_words_text\", axis=1)\n",
        "test_data = test_data.drop(\"Text\", axis=1)\n",
        "test_data.head(2)"
      ],
      "execution_count": null,
      "outputs": [
        {
          "output_type": "execute_result",
          "data": {
            "text/html": [
              "<div>\n",
              "<style scoped>\n",
              "    .dataframe tbody tr th:only-of-type {\n",
              "        vertical-align: middle;\n",
              "    }\n",
              "\n",
              "    .dataframe tbody tr th {\n",
              "        vertical-align: top;\n",
              "    }\n",
              "\n",
              "    .dataframe thead th {\n",
              "        text-align: right;\n",
              "    }\n",
              "</style>\n",
              "<table border=\"1\" class=\"dataframe\">\n",
              "  <thead>\n",
              "    <tr style=\"text-align: right;\">\n",
              "      <th></th>\n",
              "      <th>ID</th>\n",
              "    </tr>\n",
              "  </thead>\n",
              "  <tbody>\n",
              "    <tr>\n",
              "      <th>0</th>\n",
              "      <td>ID_ADHEtjTi</td>\n",
              "    </tr>\n",
              "    <tr>\n",
              "      <th>1</th>\n",
              "      <td>ID_AHfJktdQ</td>\n",
              "    </tr>\n",
              "  </tbody>\n",
              "</table>\n",
              "</div>"
            ],
            "text/plain": [
              "            ID\n",
              "0  ID_ADHEtjTi\n",
              "1  ID_AHfJktdQ"
            ]
          },
          "metadata": {
            "tags": []
          },
          "execution_count": 55
        }
      ]
    },
    {
      "cell_type": "code",
      "metadata": {
        "colab": {
          "base_uri": "https://localhost:8080/"
        },
        "id": "s_jfOsysJ3mZ",
        "outputId": "9ab7473a-d889-400a-d6c7-1681ff63cbca"
      },
      "source": [
        "#Adding predictions to Numpy Array\n",
        "test_data['Label'] = predictions.tolist()\n",
        "type(predictions)\n",
        "type(test_data)"
      ],
      "execution_count": null,
      "outputs": [
        {
          "output_type": "execute_result",
          "data": {
            "text/plain": [
              "pandas.core.frame.DataFrame"
            ]
          },
          "metadata": {
            "tags": []
          },
          "execution_count": 56
        }
      ]
    },
    {
      "cell_type": "code",
      "metadata": {
        "colab": {
          "base_uri": "https://localhost:8080/",
          "height": 106
        },
        "id": "SQ9WBw2TKngg",
        "outputId": "acfd7705-102c-4a87-e368-94694ff5e6c0"
      },
      "source": [
        "test_data.head(2)"
      ],
      "execution_count": null,
      "outputs": [
        {
          "output_type": "execute_result",
          "data": {
            "text/html": [
              "<div>\n",
              "<style scoped>\n",
              "    .dataframe tbody tr th:only-of-type {\n",
              "        vertical-align: middle;\n",
              "    }\n",
              "\n",
              "    .dataframe tbody tr th {\n",
              "        vertical-align: top;\n",
              "    }\n",
              "\n",
              "    .dataframe thead th {\n",
              "        text-align: right;\n",
              "    }\n",
              "</style>\n",
              "<table border=\"1\" class=\"dataframe\">\n",
              "  <thead>\n",
              "    <tr style=\"text-align: right;\">\n",
              "      <th></th>\n",
              "      <th>ID</th>\n",
              "      <th>Label</th>\n",
              "    </tr>\n",
              "  </thead>\n",
              "  <tbody>\n",
              "    <tr>\n",
              "      <th>0</th>\n",
              "      <td>ID_ADHEtjTi</td>\n",
              "      <td>SOCIAL ISSUES</td>\n",
              "    </tr>\n",
              "    <tr>\n",
              "      <th>1</th>\n",
              "      <td>ID_AHfJktdQ</td>\n",
              "      <td>RELIGION</td>\n",
              "    </tr>\n",
              "  </tbody>\n",
              "</table>\n",
              "</div>"
            ],
            "text/plain": [
              "            ID          Label\n",
              "0  ID_ADHEtjTi  SOCIAL ISSUES\n",
              "1  ID_AHfJktdQ       RELIGION"
            ]
          },
          "metadata": {
            "tags": []
          },
          "execution_count": 57
        }
      ]
    },
    {
      "cell_type": "code",
      "metadata": {
        "id": "A2-QHwTUKqH9"
      },
      "source": [
        "submission = test_data"
      ],
      "execution_count": null,
      "outputs": []
    },
    {
      "cell_type": "code",
      "metadata": {
        "id": "nkCgLQZGKwpW"
      },
      "source": [
        "submission.to_csv(\"Chichewa_DNN_ResultsV77.csv\", index=False)"
      ],
      "execution_count": null,
      "outputs": []
    }
  ]
}